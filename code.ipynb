{
  "nbformat": 4,
  "nbformat_minor": 0,
  "metadata": {
    "colab": {
      "name": "code.ipynb",
      "provenance": [],
      "collapsed_sections": [],
      "toc_visible": true
    },
    "kernelspec": {
      "display_name": "Python 3",
      "language": "python",
      "name": "python3"
    },
    "language_info": {
      "codemirror_mode": {
        "name": "ipython",
        "version": 3
      },
      "file_extension": ".py",
      "mimetype": "text/x-python",
      "name": "python",
      "nbconvert_exporter": "python",
      "pygments_lexer": "ipython3",
      "version": "3.7.4"
    }
  },
  "cells": [
    {
      "cell_type": "markdown",
      "metadata": {
        "id": "vxiuRrBrKPBs"
      },
      "source": [
        "# Lego brick image search engine\n",
        "Authors: Jing Cao, Jieping Yang"
      ]
    },
    {
      "cell_type": "markdown",
      "metadata": {
        "id": "I5GUV2H1Kqur"
      },
      "source": [
        "LEGO usually sells building bricks in sets to build a specific object like a Lamborghini or the White House. Though those parts are in different shapes, sizes, and colors, there are a lot of common parts that can be used in different sets. If you have some scattered parts, in which sets can you use them? Even further, if you try to build something new with your lego bricks on hand, what could you build? There is a website called Rebrickable(https://rebrickable.com/) that provides a search function with a similar purpose as ours, and one of our datasets is actually collected from Rebrickable API. However, they don’t provide an image search. Our project is to build an image search engine especially for the users who have no idea what the name of each part is. The user can get information about the name of this part, as well as which lego sets the part could be used for, after uploading the part image."
      ]
    },
    {
      "cell_type": "code",
      "metadata": {
        "id": "g58uRpCzIt8e"
      },
      "source": [
        "# # comment out this if use colab\n",
        "# from google.colab import drive\n",
        "# drive.mount('/content/drive')"
      ],
      "execution_count": null,
      "outputs": []
    },
    {
      "cell_type": "code",
      "metadata": {
        "scrolled": true,
        "id": "lIJmpkGqJ8LZ"
      },
      "source": [
        "# # install the packages as you need\n",
        "# !pip install tensorflow\n",
        "# !pip install keras\n",
        "# !pip install pyyaml h5py  # Required to save models in HDF5 format"
      ],
      "execution_count": 1,
      "outputs": []
    },
    {
      "cell_type": "markdown",
      "metadata": {
        "id": "ukW5U6_MjT7k"
      },
      "source": [
        "## Data cleaning\n",
        "Lego sets data: https://www.kaggle.com/rtatman/lego-database\n",
        "## New Section\n",
        "Image dataset: https://drive.google.com/drive/folders/1IHCxB4AeFP0Rc5hGQIEv1DOJkYnjH7MN?usp=sharing"
      ]
    },
    {
      "cell_type": "code",
      "metadata": {
        "id": "lWElWGGpJ8LP"
      },
      "source": [
        "from csv import reader\n",
        "opened_file = open(r'database/parts.csv')\n",
        "read_file = reader(opened_file)\n",
        "parts = list(read_file)\n",
        "\n",
        "print(parts[:10])"
      ],
      "execution_count": null,
      "outputs": []
    },
    {
      "cell_type": "code",
      "metadata": {
        "id": "7nmc7WtqJ8LS"
      },
      "source": [
        "from csv import reader\n",
        "opened_file = open(r'database/inventory_parts.csv')\n",
        "read_file = reader(opened_file)\n",
        "inventory_parts = list(read_file)\n",
        "\n",
        "print(inventory_parts[:10])"
      ],
      "execution_count": null,
      "outputs": []
    },
    {
      "cell_type": "code",
      "metadata": {
        "id": "BHGualRHJ8LS"
      },
      "source": [
        "new_parts_need = ['18654','15672','14719','2357','2420', '2780','27925','3001','3002', '3003', '3004', '3005',\n",
        "               '3010','3020','3021','3022','3023','3024','3037','3038', '3039','3045','3298',\n",
        "               '3659','3675','3700','4150','41677','41678','4274','4286','43093','43857','4490','54200',\n",
        "               '6632','85984','99301']\n",
        "len(new_parts_need)"
      ],
      "execution_count": null,
      "outputs": []
    },
    {
      "cell_type": "code",
      "metadata": {
        "id": "7CE1tZ55J8LT"
      },
      "source": [
        "new_parts = []\n",
        "for row in parts:\n",
        "  num = row[0]\n",
        "  if num in new_parts_need:\n",
        "    new_parts.append(row)\n",
        "\n",
        "print(new_parts)\n",
        "print(len(new_parts))"
      ],
      "execution_count": null,
      "outputs": []
    },
    {
      "cell_type": "code",
      "metadata": {
        "id": "lX5pO4f7J8LU"
      },
      "source": [
        "new_parts_inventory = []\n",
        "for row in inventory_parts:\n",
        "  num = row[1]\n",
        "  color = row[3]\n",
        "  if num in new_parts_need and color == \"7\":\n",
        "    # color id of light gray is \"7\"\n",
        "    new_parts_inventory.append(row)\n",
        "print(new_parts_inventory[:10])\n",
        "print(len(new_parts_inventory))"
      ],
      "execution_count": null,
      "outputs": []
    },
    {
      "cell_type": "code",
      "metadata": {
        "id": "KvdSBlnpJ8LU"
      },
      "source": [
        "new_list = []\n",
        "\n",
        "for row in new_parts:\n",
        "  part_num = row[0]\n",
        "  for r in new_parts_inventory:\n",
        "    part_num2 = r[1]\n",
        "    inventory_id = r[0]\n",
        "    if part_num2 == part_num:\n",
        "      new_list.append(row+[inventory_id])\n",
        "new_list[:10]\n",
        "print(new_list[:10])\n",
        "print(len(new_list))"
      ],
      "execution_count": null,
      "outputs": []
    },
    {
      "cell_type": "code",
      "metadata": {
        "id": "EVATPJGsJ8LV"
      },
      "source": [
        "from csv import reader\n",
        "opened_file = open(r'database/inventories.csv')\n",
        "read_file = reader(opened_file)\n",
        "inventories = list(read_file)\n",
        "\n",
        "print(inventories[:10])"
      ],
      "execution_count": null,
      "outputs": []
    },
    {
      "cell_type": "code",
      "metadata": {
        "id": "NGbXt4ObJ8LV"
      },
      "source": [
        "id_list = []\n",
        "\n",
        "for row in inventories:\n",
        "  id = row[0]\n",
        "  set_id = row[-1]\n",
        "  for r in new_list:\n",
        "    inventory_id = r[-1] \n",
        "    if id == inventory_id:\n",
        "     id_list.append(r+[set_id]) \n",
        "print(id_list[:10])\n",
        "print(len(id_list))"
      ],
      "execution_count": null,
      "outputs": []
    },
    {
      "cell_type": "code",
      "metadata": {
        "id": "pPkL6JvgJ8LW"
      },
      "source": [
        "from csv import reader\n",
        "opened_file = open(r'database/sets.csv')\n",
        "read_file = reader(opened_file)\n",
        "sets = list(read_file)\n",
        "\n",
        "print(sets[:10])"
      ],
      "execution_count": null,
      "outputs": []
    },
    {
      "cell_type": "code",
      "metadata": {
        "id": "jIafTUC6J8LX"
      },
      "source": [
        "final_list = []\n",
        "\n",
        "for row in id_list:\n",
        "  set_num = row[-1]\n",
        "  for r in sets:\n",
        "    set_num2 = r[0]\n",
        "    set_name = r[1]\n",
        "    if set_num == set_num2:\n",
        "      final_list.append(row+[set_name])\n",
        "\n",
        "print(final_list[:10])\n",
        "print(len(final_list))"
      ],
      "execution_count": null,
      "outputs": []
    },
    {
      "cell_type": "code",
      "metadata": {
        "id": "IFVlh8aPJ8LY"
      },
      "source": [
        "title = ['part_num','part_name','part_cat_id','inventory_id','set_num','set_name']\n",
        "final = [title] + final_list\n",
        "len(final)\n",
        "print(final[:10])"
      ],
      "execution_count": null,
      "outputs": []
    },
    {
      "cell_type": "code",
      "metadata": {
        "id": "IANCKHW6J8LY"
      },
      "source": [
        "from pandas.core.frame import DataFrame\n",
        "\n",
        "new = DataFrame(final)\n",
        "new_dataframe = new.drop([2,3],axis = 1)\n",
        "new_dataframe = new_dataframe.rename(columns={0: \"part_num\", 1: \"part_name\",4:\"set_num\",5:\"set_name\"})\n",
        "new_dataframe = new_dataframe.drop([0])\n",
        "new_dataframe"
      ],
      "execution_count": null,
      "outputs": []
    },
    {
      "cell_type": "code",
      "metadata": {
        "id": "BfHKaFHjJ8LZ"
      },
      "source": [
        "new_dataframe.to_csv('final.csv')"
      ],
      "execution_count": null,
      "outputs": []
    },
    {
      "cell_type": "markdown",
      "metadata": {
        "id": "dTOnySJikGDN"
      },
      "source": [
        "## Image classification"
      ]
    },
    {
      "cell_type": "code",
      "metadata": {
        "id": "-w_EpYpDIvJ3"
      },
      "source": [
        "# %tensorflow_version 1.x # in jupyter notebook, comment out this line \n",
        "# and add \"import tensorflow.compat.v1 as tf tf.disable_v2_behavior()\"\n",
        "import tensorflow as tf\n",
        "import keras\n",
        "from tensorflow.python.keras.models import Sequential\n",
        "from tensorflow.python.keras.layers import Dense, Flatten, GlobalAveragePooling2D\n",
        "from keras import layers\n",
        "from keras import models\n",
        "from keras import optimizers\n",
        "from tensorflow.keras.callbacks import ReduceLROnPlateau\n",
        "from keras.callbacks import ModelCheckpoint\n",
        "from keras.preprocessing.image import ImageDataGenerator\n",
        "import matplotlib.pyplot as plt\n",
        "\n",
        "import os\n",
        "from os import listdir\n",
        "import io\n",
        "\n",
        "import warnings\n",
        "warnings.filterwarnings('ignore')"
      ],
      "execution_count": null,
      "outputs": []
    },
    {
      "cell_type": "code",
      "metadata": {
        "id": "1MmCX2rWJDsb"
      },
      "source": [
        "train_path = r'/Users/yangjieping/Desktop/650/final/image_dataset/train/'\n",
        "valid_path = r'/Users/yangjieping/Desktop/650/final/image_dataset/valid/'\n",
        "test_path = r'/Users/yangjieping/Desktop/650/final/image_dataset/test/'"
      ],
      "execution_count": null,
      "outputs": []
    },
    {
      "cell_type": "markdown",
      "metadata": {
        "id": "jhlSW7I0kZ4x"
      },
      "source": [
        "### Original data\n",
        "*Rescale the image by 1/225"
      ]
    },
    {
      "cell_type": "code",
      "metadata": {
        "id": "qbyagWpZJGsP"
      },
      "source": [
        "# Rescale the pixel values (between 0 and 255) to the [0, 1] interval,\n",
        "# since neural networks prefer to deal with small input values).\n",
        "data_generator_no_aug_train = ImageDataGenerator(rescale=1./225)\n",
        "data_generator_no_aug_valid = ImageDataGenerator(rescale=1./225)\n",
        "data_generator_no_aug_test = ImageDataGenerator(rescale=1./225)\n",
        "num_classes = 38\n",
        "image_size =150"
      ],
      "execution_count": null,
      "outputs": []
    },
    {
      "cell_type": "code",
      "metadata": {
        "colab": {
          "base_uri": "https://localhost:8080/"
        },
        "id": "maqAjDSjJTF9",
        "outputId": "e0f8d121-bcd4-4b3e-d95d-7b61f33e3c2a"
      },
      "source": [
        "train_generator = data_generator_no_aug_train.flow_from_directory(\n",
        "        train_path,\n",
        "        target_size=(image_size, image_size),\n",
        "        batch_size=32,\n",
        "        class_mode='categorical')\n",
        "validation_generator = data_generator_no_aug_valid.flow_from_directory(\n",
        "        valid_path,\n",
        "        target_size=(image_size, image_size),\n",
        "        batch_size=32,\n",
        "        class_mode='categorical')\n",
        "test_generator = data_generator_no_aug_test.flow_from_directory(\n",
        "        test_path,\n",
        "        target_size=(image_size, image_size),\n",
        "        batch_size=32,\n",
        "        class_mode='categorical')"
      ],
      "execution_count": null,
      "outputs": [
        {
          "output_type": "stream",
          "text": [
            "Found 21280 images belonging to 38 classes.\n",
            "Found 4560 images belonging to 38 classes.\n",
            "Found 4560 images belonging to 38 classes.\n"
          ],
          "name": "stdout"
        }
      ]
    },
    {
      "cell_type": "code",
      "metadata": {
        "id": "yMaXw6l0JagV"
      },
      "source": [
        "len_train_data = len(train_generator.filenames)\n",
        "len_test_data = len(test_generator.filenames)\n",
        "len_val_data = len(validation_generator.filenames)"
      ],
      "execution_count": null,
      "outputs": []
    },
    {
      "cell_type": "markdown",
      "metadata": {
        "id": "-dbMihZ2kwXl"
      },
      "source": [
        "#### ResNet50 w/o augmentation"
      ]
    },
    {
      "cell_type": "code",
      "metadata": {
        "colab": {
          "base_uri": "https://localhost:8080/"
        },
        "id": "FQzEnpzmJfEY",
        "outputId": "02281d45-9bd9-4a14-a85c-dfa3d3f109b7"
      },
      "source": [
        "# ResNet50 as baseine\n",
        "from tensorflow.keras.applications.resnet50 import ResNet50\n",
        "\n",
        "model_resnet50 = Sequential()\n",
        "model_resnet50.add(ResNet50(include_top=False, pooling='avg'))\n",
        "model_resnet50.add(Dense(num_classes, activation='softmax'))\n",
        "\n",
        "model_resnet50.layers[0].trainable = False\n",
        "\n",
        "model_resnet50.compile(optimizer='sgd', loss='categorical_crossentropy', metrics=['accuracy'])"
      ],
      "execution_count": null,
      "outputs": [
        {
          "output_type": "stream",
          "text": [
            "Downloading data from https://storage.googleapis.com/tensorflow/keras-applications/resnet/resnet50_weights_tf_dim_ordering_tf_kernels_notop.h5\n",
            "94773248/94765736 [==============================] - 51s 1us/step\n"
          ],
          "name": "stdout"
        }
      ]
    },
    {
      "cell_type": "code",
      "metadata": {
        "id": "sh9SheSiJyDI"
      },
      "source": [
        "# callback\n",
        "# https://www.kaggle.com/artemnechitaylo/lego-bricks-classification-keras-cnn\n",
        "best_res_model_path = 'resnet_model.h5'\n",
        "checkpoint_callback = ModelCheckpoint(best_res_model_path,\n",
        "                                     monitor='val_accuracy',\n",
        "                                     save_best_only=True,\n",
        "                                     verbose=1)\n",
        "reduce_callback = ReduceLROnPlateau(monitor='val_loss',\n",
        "                                   patience=3,\n",
        "                                   factor=0.5,\n",
        "                                   min_lr=0.00001,\n",
        "                                   verbose=1)\n",
        "callbacks_list = [checkpoint_callback, reduce_callback]"
      ],
      "execution_count": null,
      "outputs": []
    },
    {
      "cell_type": "code",
      "metadata": {
        "colab": {
          "base_uri": "https://localhost:8080/",
          "height": 626
        },
        "id": "oScUCx2NJigR",
        "scrolled": false,
        "outputId": "73de7e66-daf4-4b0c-ac3c-ba62131a16c6"
      },
      "source": [
        "# ResNet50 without augmentation\n",
        "# !!! need about 8 hours to run on Jupyter Notebook\n",
        "# load the model use the code in the block after the next block.\n",
        "res = model_resnet50.fit_generator(\n",
        "        train_generator,\n",
        "        steps_per_epoch=len_train_data // 32,\n",
        "        epochs=30,\n",
        "        validation_data=validation_generator,\n",
        "        validation_steps=len_val_data // 32,\n",
        "        callbacks=callbacks_list)"
      ],
      "execution_count": null,
      "outputs": [
        {
          "output_type": "stream",
          "text": [
            "Epoch 1/30\n",
            "665/665 [==============================] - 776s 1s/step - loss: 3.6766 - accuracy: 0.0283 - val_loss: 3.6561 - val_accuracy: 0.0264\n",
            "\n",
            "Epoch 00001: val_accuracy improved from -inf to 0.02641, saving model to resnet_model.h5\n",
            "Epoch 2/30\n",
            "665/665 [==============================] - 800s 1s/step - loss: 3.6353 - accuracy: 0.0330 - val_loss: 3.5991 - val_accuracy: 0.0295\n",
            "\n",
            "Epoch 00002: val_accuracy improved from 0.02641 to 0.02949, saving model to resnet_model.h5\n",
            "Epoch 3/30\n",
            "665/665 [==============================] - 797s 1s/step - loss: 3.6009 - accuracy: 0.0389 - val_loss: 3.5738 - val_accuracy: 0.0337\n",
            "\n",
            "Epoch 00003: val_accuracy improved from 0.02949 to 0.03367, saving model to resnet_model.h5\n",
            "Epoch 4/30\n",
            "665/665 [==============================] - 805s 1s/step - loss: 3.5677 - accuracy: 0.0511 - val_loss: 3.5535 - val_accuracy: 0.0742\n",
            "\n",
            "Epoch 00004: val_accuracy improved from 0.03367 to 0.07416, saving model to resnet_model.h5\n",
            "Epoch 5/30\n",
            "665/665 [==============================] - 806s 1s/step - loss: 3.5441 - accuracy: 0.0544 - val_loss: 3.5310 - val_accuracy: 0.0530\n",
            "\n",
            "Epoch 00005: val_accuracy did not improve from 0.07416\n",
            "Epoch 6/30\n",
            "665/665 [==============================] - 802s 1s/step - loss: 3.5195 - accuracy: 0.0593 - val_loss: 3.4992 - val_accuracy: 0.0636\n",
            "\n",
            "Epoch 00006: val_accuracy did not improve from 0.07416\n",
            "Epoch 7/30\n",
            "665/665 [==============================] - 798s 1s/step - loss: 3.4976 - accuracy: 0.0636 - val_loss: 3.4854 - val_accuracy: 0.0563\n",
            "\n",
            "Epoch 00007: val_accuracy did not improve from 0.07416\n",
            "Epoch 8/30\n",
            "665/665 [==============================] - 805s 1s/step - loss: 3.4786 - accuracy: 0.0620 - val_loss: 3.4586 - val_accuracy: 0.0401\n",
            "\n",
            "Epoch 00008: val_accuracy did not improve from 0.07416\n",
            "Epoch 9/30\n",
            "665/665 [==============================] - 807s 1s/step - loss: 3.4568 - accuracy: 0.0656 - val_loss: 3.4655 - val_accuracy: 0.0623\n",
            "\n",
            "Epoch 00009: val_accuracy did not improve from 0.07416\n",
            "Epoch 10/30\n",
            "665/665 [==============================] - 803s 1s/step - loss: 3.4385 - accuracy: 0.0720 - val_loss: 3.4302 - val_accuracy: 0.0790\n",
            "\n",
            "Epoch 00010: val_accuracy improved from 0.07416 to 0.07901, saving model to resnet_model.h5\n",
            "Epoch 11/30\n",
            "665/665 [==============================] - 811s 1s/step - loss: 3.4219 - accuracy: 0.0699 - val_loss: 3.4256 - val_accuracy: 0.0849\n",
            "\n",
            "Epoch 00011: val_accuracy improved from 0.07901 to 0.08495, saving model to resnet_model.h5\n",
            "Epoch 12/30\n",
            "665/665 [==============================] - 810s 1s/step - loss: 3.4140 - accuracy: 0.0697 - val_loss: 3.3931 - val_accuracy: 0.0726\n",
            "\n",
            "Epoch 00012: val_accuracy did not improve from 0.08495\n",
            "Epoch 13/30\n",
            "665/665 [==============================] - 802s 1s/step - loss: 3.3935 - accuracy: 0.0746 - val_loss: 3.3838 - val_accuracy: 0.0700\n",
            "\n",
            "Epoch 00013: val_accuracy did not improve from 0.08495\n",
            "Epoch 14/30\n",
            "665/665 [==============================] - 803s 1s/step - loss: 3.3765 - accuracy: 0.0757 - val_loss: 3.3865 - val_accuracy: 0.0860\n",
            "\n",
            "Epoch 00014: val_accuracy improved from 0.08495 to 0.08605, saving model to resnet_model.h5\n",
            "Epoch 15/30\n",
            "665/665 [==============================] - 806s 1s/step - loss: 3.3692 - accuracy: 0.0768 - val_loss: 3.3541 - val_accuracy: 0.0832\n",
            "\n",
            "Epoch 00015: val_accuracy did not improve from 0.08605\n",
            "Epoch 16/30\n",
            "665/665 [==============================] - 805s 1s/step - loss: 3.3519 - accuracy: 0.0834 - val_loss: 3.3578 - val_accuracy: 0.0717\n",
            "\n",
            "Epoch 00016: val_accuracy did not improve from 0.08605\n",
            "Epoch 17/30\n",
            "665/665 [==============================] - 804s 1s/step - loss: 3.3387 - accuracy: 0.0792 - val_loss: 3.3424 - val_accuracy: 0.0852\n",
            "\n",
            "Epoch 00017: val_accuracy did not improve from 0.08605\n",
            "Epoch 18/30\n",
            "665/665 [==============================] - 804s 1s/step - loss: 3.3281 - accuracy: 0.0838 - val_loss: 3.3221 - val_accuracy: 0.0907\n",
            "\n",
            "Epoch 00018: val_accuracy improved from 0.08605 to 0.09067, saving model to resnet_model.h5\n",
            "Epoch 19/30\n",
            "665/665 [==============================] - 813s 1s/step - loss: 3.3213 - accuracy: 0.0835 - val_loss: 3.3282 - val_accuracy: 0.0942\n",
            "\n",
            "Epoch 00019: val_accuracy improved from 0.09067 to 0.09419, saving model to resnet_model.h5\n",
            "Epoch 20/30\n",
            "665/665 [==============================] - 813s 1s/step - loss: 3.3042 - accuracy: 0.0875 - val_loss: 3.2931 - val_accuracy: 0.1155\n",
            "\n",
            "Epoch 00020: val_accuracy improved from 0.09419 to 0.11554, saving model to resnet_model.h5\n",
            "Epoch 21/30\n",
            "665/665 [==============================] - 807s 1s/step - loss: 3.2903 - accuracy: 0.0890 - val_loss: 3.2788 - val_accuracy: 0.1120\n",
            "\n",
            "Epoch 00021: val_accuracy did not improve from 0.11554\n",
            "Epoch 22/30\n",
            "665/665 [==============================] - 805s 1s/step - loss: 3.2835 - accuracy: 0.0944 - val_loss: 3.2888 - val_accuracy: 0.0739\n",
            "\n",
            "Epoch 00022: val_accuracy did not improve from 0.11554\n",
            "Epoch 23/30\n",
            "665/665 [==============================] - 805s 1s/step - loss: 3.2764 - accuracy: 0.0943 - val_loss: 3.2802 - val_accuracy: 0.1281\n",
            "\n",
            "Epoch 00023: val_accuracy improved from 0.11554 to 0.12808, saving model to resnet_model.h5\n",
            "Epoch 24/30\n",
            "665/665 [==============================] - 810s 1s/step - loss: 3.2676 - accuracy: 0.0948 - val_loss: 3.2627 - val_accuracy: 0.0955\n",
            "\n",
            "Epoch 00024: val_accuracy did not improve from 0.12808\n",
            "Epoch 25/30\n",
            "665/665 [==============================] - 806s 1s/step - loss: 3.2520 - accuracy: 0.0971 - val_loss: 3.2702 - val_accuracy: 0.0874\n",
            "\n",
            "Epoch 00025: val_accuracy did not improve from 0.12808\n",
            "Epoch 26/30\n",
            "665/665 [==============================] - 807s 1s/step - loss: 3.2459 - accuracy: 0.0962 - val_loss: 3.2631 - val_accuracy: 0.0744\n",
            "\n",
            "Epoch 00026: val_accuracy did not improve from 0.12808\n",
            "Epoch 27/30\n",
            "665/665 [==============================] - 805s 1s/step - loss: 3.2373 - accuracy: 0.1031 - val_loss: 3.2322 - val_accuracy: 0.1283\n",
            "\n",
            "Epoch 00027: val_accuracy improved from 0.12808 to 0.12830, saving model to resnet_model.h5\n",
            "Epoch 28/30\n",
            "665/665 [==============================] - 812s 1s/step - loss: 3.2283 - accuracy: 0.1001 - val_loss: 3.2440 - val_accuracy: 0.1296\n",
            "\n",
            "Epoch 00028: val_accuracy improved from 0.12830 to 0.12962, saving model to resnet_model.h5\n",
            "Epoch 29/30\n",
            "665/665 [==============================] - 809s 1s/step - loss: 3.2305 - accuracy: 0.1023 - val_loss: 3.2152 - val_accuracy: 0.1072\n",
            "\n",
            "Epoch 00029: val_accuracy did not improve from 0.12962\n",
            "Epoch 30/30\n",
            "665/665 [==============================] - 804s 1s/step - loss: 3.2217 - accuracy: 0.1017 - val_loss: 3.2280 - val_accuracy: 0.1032\n",
            "\n",
            "Epoch 00030: val_accuracy did not improve from 0.12962\n"
          ],
          "name": "stdout"
        }
      ]
    },
    {
      "cell_type": "code",
      "metadata": {
        "colab": {
          "base_uri": "https://localhost:8080/",
          "height": 233
        },
        "id": "tPAwnA1EJjum",
        "scrolled": true,
        "outputId": "72904bbd-3ac2-4950-a80a-b7a5f354e5ff"
      },
      "source": [
        "acc = res.history['accuracy']\n",
        "val_acc = res.history['val_accuracy']\n",
        "loss = res.history['loss']\n",
        "val_loss = res.history['val_loss']\n",
        "\n",
        "epochs = range(len(acc))\n",
        "\n",
        "plt.plot(epochs, acc, 'bo', label='Training acc')\n",
        "plt.plot(epochs, val_acc, 'b', label='Validation acc')\n",
        "plt.title('Training and validation accuracy with ResNet50')\n",
        "plt.legend()\n",
        "\n",
        "plt.figure()\n",
        "\n",
        "plt.plot(epochs, loss, 'bo', label='Training loss')\n",
        "plt.plot(epochs, val_loss, 'b', label='Validation loss')\n",
        "plt.title('Training and validation loss with ResNet50')\n",
        "plt.legend()\n",
        "\n",
        "plt.show()"
      ],
      "execution_count": null,
      "outputs": [
        {
          "output_type": "display_data",
          "data": {
            "image/png": "[encoded data removed]",
            "text/plain": [
              "<Figure size 432x288 with 1 Axes>"
            ]
          },
          "metadata": {
            "tags": [],
            "needs_background": "light"
          }
        },
        {
          "output_type": "display_data",
          "data": {
            "image/png": "[encoded data removed]",
            "text/plain": [
              "<Figure size 432x288 with 1 Axes>"
            ]
          },
          "metadata": {
            "tags": [],
            "needs_background": "light"
          }
        }
      ]
    },
    {
      "cell_type": "code",
      "metadata": {
        "id": "8ohk6Q3jJ8Lh",
        "outputId": "38dc5c09-58f4-471f-d308-60e941fd0ea3"
      },
      "source": [
        "# save the model\n",
        "res.save(best_res_model_path)"
      ],
      "execution_count": null,
      "outputs": [
        {
          "output_type": "execute_result",
          "data": {
            "text/plain": [
              "'resnet_model.h5'"
            ]
          },
          "metadata": {
            "tags": []
          },
          "execution_count": 45
        }
      ]
    },
    {
      "cell_type": "code",
      "metadata": {
        "id": "oEmt2850KCz1",
        "outputId": "12340b4b-473f-4b1a-e97b-c16f0bc4319c"
      },
      "source": [
        "# res.load_weights(best_model_path)\n",
        "model = keras.models.load_model(best_res_model_path)\n",
        "testing_model = model.evaluate_generator(test_generator,\n",
        "                                         len_test_data // 32,\n",
        "                                         verbose=1)"
      ],
      "execution_count": null,
      "outputs": [
        {
          "output_type": "stream",
          "text": [
            "142/142 [==============================] - 243s 2s/step - loss: 3.2417 - accuracy: 0.1336\n"
          ],
          "name": "stdout"
        }
      ]
    },
    {
      "cell_type": "markdown",
      "metadata": {
        "id": "w4EAoKHjlRS4"
      },
      "source": [
        "#### Customized model w/o augmentation"
      ]
    },
    {
      "cell_type": "code",
      "metadata": {
        "id": "T-pLrC6SlYTQ"
      },
      "source": [
        "# callback\n",
        "# https://www.kaggle.com/artemnechitaylo/lego-bricks-classification-keras-cnn\n",
        "# best_model_path = 'drive/Shared drives/SI 650 project/best_model.h5'\n",
        "best_model_path = 'best_model.h5'\n",
        "checkpoint_callback = ModelCheckpoint(best_model_path,\n",
        "                                     monitor='val_accuracy',\n",
        "                                     save_best_only=True,\n",
        "                                     verbose=1)\n",
        "reduce_callback = ReduceLROnPlateau(monitor='val_accuracy',\n",
        "                                   patience=3,\n",
        "                                   factor=0.5,\n",
        "                                   min_lr=0.00001,\n",
        "                                   verbose=1)\n",
        "callbacks_list = [checkpoint_callback, reduce_callback]"
      ],
      "execution_count": null,
      "outputs": []
    },
    {
      "cell_type": "code",
      "metadata": {
        "id": "1sEnewqhlrod"
      },
      "source": [
        "# customized model\n",
        "model = models.Sequential()\n",
        "model.add(layers.Conv2D(32, (3, 3), activation='relu',\n",
        "                        input_shape=(150, 150, 3)))\n",
        "model.add(layers.MaxPooling2D((2, 2)))\n",
        "model.add(layers.Conv2D(64, (3, 3), activation='relu'))\n",
        "model.add(layers.MaxPooling2D((2, 2)))\n",
        "model.add(layers.Flatten())\n",
        "model.add(layers.Dropout(0.5))\n",
        "model.add(layers.Dense(512, activation='relu'))\n",
        "model.add(layers.Dense(38, activation='sigmoid'))\n",
        "\n",
        "model.compile(loss='categorical_crossentropy',\n",
        "              optimizer=optimizers.Adam(lr=1e-5),\n",
        "              metrics=['acc'])"
      ],
      "execution_count": null,
      "outputs": []
    },
    {
      "cell_type": "code",
      "metadata": {
        "id": "A9xHDMaRln5t"
      },
      "source": [
        "model.summary()"
      ],
      "execution_count": null,
      "outputs": []
    },
    {
      "cell_type": "code",
      "metadata": {
        "id": "a7vSTlOWlw9v"
      },
      "source": [
        "# !!! need about 8 hours to run on Jupyter Notebook\n",
        "# load the model use the code in the block after the next block.\n",
        "history = model.fit_generator(\n",
        "      train_generator,\n",
        "      steps_per_epoch=len_train_data // 32,\n",
        "      epochs=30,\n",
        "      validation_data=validation_generator,\n",
        "      validation_steps=len_val_data // 32,\n",
        "      callbacks=callbacks_list)"
      ],
      "execution_count": null,
      "outputs": []
    },
    {
      "cell_type": "code",
      "metadata": {
        "id": "LT5CRcWelzyB"
      },
      "source": [
        "acc = history.history['acc']\n",
        "val_acc = history.history['val_acc']\n",
        "loss = history.history['loss']\n",
        "val_loss = history.history['val_loss']\n",
        "\n",
        "epochs = range(len(acc))\n",
        "\n",
        "plt.plot(epochs, acc, 'bo', label='Training acc')\n",
        "plt.plot(epochs, val_acc, 'b', label='Validation acc')\n",
        "plt.title('Training and validation accuracy using customized model')\n",
        "plt.legend()\n",
        "\n",
        "plt.figure()\n",
        "\n",
        "plt.plot(epochs, loss, 'bo', label='Training loss')\n",
        "plt.plot(epochs, val_loss, 'b', label='Validation loss')\n",
        "plt.title('Training and validation loss using customized model')\n",
        "plt.legend()\n",
        "\n",
        "plt.show()"
      ],
      "execution_count": null,
      "outputs": []
    },
    {
      "cell_type": "code",
      "metadata": {
        "id": "eaRpE6Pjl3IY"
      },
      "source": [
        "model.save(best_model_path)"
      ],
      "execution_count": null,
      "outputs": []
    },
    {
      "cell_type": "code",
      "metadata": {
        "id": "wuZ4aIvtl3uq"
      },
      "source": [
        "model = keras.models.load_model(best_model_path)\n",
        "testing_model = model.evaluate_generator(test_generator,\n",
        "                                         len_test_data // 32,\n",
        "                                         verbose=1)"
      ],
      "execution_count": null,
      "outputs": []
    },
    {
      "cell_type": "markdown",
      "metadata": {
        "id": "NnNlCR4FmXps"
      },
      "source": [
        "### Augmented data"
      ]
    },
    {
      "cell_type": "code",
      "metadata": {
        "id": "JZ7T760xmXOR"
      },
      "source": [
        "# data augmentation\n",
        "data_generator_aug_train = ImageDataGenerator(\n",
        "      rescale=1./225,\n",
        "      rotation_range=40,\n",
        "      width_shift_range=0.1,\n",
        "      height_shift_range=0.1,\n",
        "      brightness_range = (0, 2), # itimate real pictures\n",
        "      shear_range=0.2,\n",
        "      zoom_range=0.2,\n",
        "      horizontal_flip=True,\n",
        "      fill_mode='nearest')\n",
        "\n",
        "# the validation and test data should not be augmented\n",
        "data_generator_aug_valid = ImageDataGenerator(rescale=1./225)\n",
        "data_generator_aug_test = ImageDataGenerator(rescale=1./225)"
      ],
      "execution_count": null,
      "outputs": []
    },
    {
      "cell_type": "code",
      "metadata": {
        "id": "-Owh3YqYmhAf"
      },
      "source": [
        "train_generator_aug = data_generator_aug_train.flow_from_directory(\n",
        "        train_path,\n",
        "        target_size=(image_size, image_size),\n",
        "        batch_size=32,\n",
        "        class_mode='categorical')\n",
        "validation_generator_aug = data_generator_aug_valid.flow_from_directory(\n",
        "        valid_path,\n",
        "        target_size=(image_size, image_size),\n",
        "        batch_size=32,\n",
        "        class_mode='categorical')\n",
        "test_generator_aug = data_generator_aug_test.flow_from_directory(\n",
        "        test_path,\n",
        "        target_size=(image_size, image_size),\n",
        "        batch_size=32,\n",
        "        class_mode='categorical')"
      ],
      "execution_count": null,
      "outputs": []
    },
    {
      "cell_type": "code",
      "metadata": {
        "id": "DmcHgKf3mlQu"
      },
      "source": [
        "# This is module with image preprocessing utilities\n",
        "# visualize the augmented data\n",
        "from keras.preprocessing import image\n",
        "\n",
        "fnames = [os.path.join(train_path, fname) for fname in os.listdir(train_path)]\n",
        "fnames = [os.path.join(fnames[0], fname) for fname in os.listdir(fnames[0])]\n",
        "\n",
        "# We pick one image to \"augment\"\n",
        "img_path = fnames[3]\n",
        "\n",
        "# Read the image and resize it\n",
        "img = image.load_img(img_path, target_size=(150, 150))\n",
        "\n",
        "# Convert it to a Numpy array with shape (150, 150, 3)\n",
        "x = image.img_to_array(img)\n",
        "\n",
        "# Reshape it to (1, 150, 150, 3)\n",
        "x = x.reshape((1,) + x.shape)\n",
        "\n",
        "# The .flow() command below generates batches of randomly transformed images.\n",
        "# It will loop indefinitely, so we need to `break` the loop at some point!\n",
        "i = 0\n",
        "for batch in data_generator_aug_train.flow(x, batch_size=1):\n",
        "    plt.figure(i)\n",
        "    imgplot = plt.imshow(image.array_to_img(batch[0]))\n",
        "    i += 1\n",
        "    if i % 5 == 0:\n",
        "        break\n",
        "\n",
        "plt.show()"
      ],
      "execution_count": null,
      "outputs": []
    },
    {
      "cell_type": "markdown",
      "metadata": {
        "id": "XsdSL_6KoAiy"
      },
      "source": [
        "#### ResNet50 w/ augmentation"
      ]
    },
    {
      "cell_type": "code",
      "metadata": {
        "id": "Mh9R7FHMpdGu"
      },
      "source": [
        "# callback\n",
        "# https://www.kaggle.com/artemnechitaylo/lego-bricks-classification-keras-cnn\n",
        "best_aug_model_path = 'resnet_aug_model.h5'\n",
        "aug_checkpoint_callback = ModelCheckpoint(best_aug_model_path,\n",
        "                                     monitor='val_accuracy',\n",
        "                                     save_best_only=True,\n",
        "                                     verbose=1)\n",
        "aug_reduce_callback = ReduceLROnPlateau(monitor='val_accuracy',\n",
        "                                   patience=3,\n",
        "                                   factor=0.5,\n",
        "                                   min_lr=0.00001,\n",
        "                                   verbose=1)\n",
        "aug_callbacks_list = [aug_checkpoint_callback, aug_reduce_callback]"
      ],
      "execution_count": null,
      "outputs": []
    },
    {
      "cell_type": "code",
      "metadata": {
        "id": "xiZofUD9pjUZ"
      },
      "source": [
        "# ResNet50 with augmentation\n",
        "# !!! need about 14 hours to run on Jupyter Notebook\n",
        "# load the model use the code in the block after the next block.\n",
        "res_aug = model_resnet50.fit_generator(\n",
        "        train_generator_aug,\n",
        "        steps_per_epoch=len_train_data // 32,\n",
        "        epochs=50,\n",
        "        validation_data=validation_generator_aug,\n",
        "        validation_steps=len_val_data // 32,\n",
        "        callbacks=aug_callbacks_list)"
      ],
      "execution_count": null,
      "outputs": []
    },
    {
      "cell_type": "code",
      "metadata": {
        "id": "d1_wRIJAplbB"
      },
      "source": [
        "acc = res_aug.history['accuracy']\n",
        "val_acc = res_aug.history['val_accuracy']\n",
        "loss = res_aug.history['loss']\n",
        "val_loss = res_aug.history['val_loss']\n",
        "\n",
        "epochs = range(len(acc))\n",
        "\n",
        "plt.plot(epochs, acc, 'bo', label='Training acc')\n",
        "plt.plot(epochs, val_acc, 'b', label='Validation acc')\n",
        "plt.title('Training and validation accuracy using ResNet50 with augmentation')\n",
        "plt.legend()\n",
        "\n",
        "plt.figure()\n",
        "\n",
        "plt.plot(epochs, loss, 'bo', label='Training loss')\n",
        "plt.plot(epochs, val_loss, 'b', label='Validation loss')\n",
        "plt.title('Training and validation loss using ResNet50 with augmentation')\n",
        "plt.legend()\n",
        "\n",
        "plt.show()"
      ],
      "execution_count": null,
      "outputs": []
    },
    {
      "cell_type": "code",
      "metadata": {
        "id": "7JXsATvUp8hu"
      },
      "source": [
        "res_aug.save(best_aug_model_path)"
      ],
      "execution_count": null,
      "outputs": []
    },
    {
      "cell_type": "code",
      "metadata": {
        "id": "jp99aABjp-6W"
      },
      "source": [
        "model = keras.models.load_model(best_aug_model_path)\n",
        "testing_model = model.evaluate_generator(test_generator_aug,\n",
        "                                         len_test_data // 32,\n",
        "                                         verbose=1)"
      ],
      "execution_count": null,
      "outputs": []
    },
    {
      "cell_type": "markdown",
      "metadata": {
        "id": "DMCpJFWtoJl6"
      },
      "source": [
        "#### Customized model w/ augmentation"
      ]
    },
    {
      "cell_type": "code",
      "metadata": {
        "id": "zvcg4LFYmlK6"
      },
      "source": [
        "# callback\n",
        "# https://www.kaggle.com/artemnechitaylo/lego-bricks-classification-keras-cnn\n",
        "best_aug_model_path = 'best_aug_model.h5'\n",
        "aug_checkpoint_callback = ModelCheckpoint(best_aug_model_path,\n",
        "                                     monitor='val_accuracy',\n",
        "                                     save_best_only=True,\n",
        "                                     verbose=1)\n",
        "aug_reduce_callback = ReduceLROnPlateau(monitor='val_accuracy',\n",
        "                                   patience=3,\n",
        "                                   factor=0.5,\n",
        "                                   min_lr=0.00001,\n",
        "                                   verbose=1)\n",
        "aug_callbacks_list = [aug_checkpoint_callback, aug_reduce_callback]"
      ],
      "execution_count": null,
      "outputs": []
    },
    {
      "cell_type": "code",
      "metadata": {
        "id": "6I9FW0paKGtj"
      },
      "source": [
        "# customized model\n",
        "aug_model = models.Sequential()\n",
        "aug_model.add(layers.Conv2D(32, (3, 3), activation='relu',\n",
        "                        input_shape=(150, 150, 3)))\n",
        "aug_model.add(layers.MaxPooling2D((2, 2)))\n",
        "aug_model.add(layers.Conv2D(64, (3, 3), activation='relu'))\n",
        "aug_model.add(layers.MaxPooling2D((2, 2)))\n",
        "aug_model.add(layers.Flatten())\n",
        "aug_model.add(layers.Dropout(0.5))\n",
        "aug_model.add(layers.Dense(512, activation='relu'))\n",
        "aug_model.add(layers.Dense(38, activation='sigmoid'))\n",
        "\n",
        "aug_model.compile(loss='categorical_crossentropy',\n",
        "              optimizer=optimizers.Adam(lr=1e-5),\n",
        "              metrics=['acc'])"
      ],
      "execution_count": null,
      "outputs": []
    },
    {
      "cell_type": "code",
      "metadata": {
        "id": "uZzNDi-tKIDc"
      },
      "source": [
        "aug_model.summary()"
      ],
      "execution_count": null,
      "outputs": []
    },
    {
      "cell_type": "code",
      "metadata": {
        "id": "pnG_L4anKSjr"
      },
      "source": [
        "# customized model with augmentation\n",
        "# !!! need more than 10 hours to run on Jupyter Notebook\n",
        "# load the model use the code in the block after the next block.\n",
        "aug_history = aug_model.fit_generator(\n",
        "      train_generator_aug,\n",
        "      steps_per_epoch=len_train_data // 32,\n",
        "      epochs=30,\n",
        "      validation_data=validation_generator_aug,\n",
        "      validation_steps=len_val_data // 32,\n",
        "      callbacks=aug_callbacks_list)"
      ],
      "execution_count": null,
      "outputs": []
    },
    {
      "cell_type": "code",
      "metadata": {
        "id": "g9Ujiw6MKYAX"
      },
      "source": [
        "aug_acc = aug_history.history['acc']\n",
        "aug_val_acc = aug_history.history['val_acc']\n",
        "aug_loss = aug_history.history['loss']\n",
        "aug_val_loss = aug_history.history['val_loss']\n",
        "\n",
        "aug_epochs = range(len(aug_acc))\n",
        "\n",
        "plt.plot(aug_epochs, aug_acc, 'bo', label='Training acc')\n",
        "plt.plot(aug_epochs, aug_val_acc, 'b', label='Validation acc')\n",
        "plt.title('Training and validation accuracy using customized model w/ augmentation')\n",
        "plt.legend()\n",
        "\n",
        "plt.figure()\n",
        "\n",
        "plt.plot(aug_epochs, aug_loss, 'bo', label='Training loss')\n",
        "plt.plot(aug_epochs, aug_val_loss, 'b', label='Validation loss')\n",
        "plt.title('Training and validation loss using customized model w/ augmentation')\n",
        "plt.legend()\n",
        "\n",
        "plt.show()"
      ],
      "execution_count": null,
      "outputs": []
    },
    {
      "cell_type": "code",
      "metadata": {
        "id": "HJNvZuYDKk73"
      },
      "source": [
        "aug_model.save(best_aug_model_path)"
      ],
      "execution_count": null,
      "outputs": []
    },
    {
      "cell_type": "code",
      "metadata": {
        "id": "og0vivrgKrQU"
      },
      "source": [
        "model = keras.models.load_model(best_aug_model_path)\n",
        "aug_testing_model = aug_model.evaluate_generator(test_generator_aug,\n",
        "                                         len_test_data // 32,\n",
        "                                         verbose=1)"
      ],
      "execution_count": null,
      "outputs": []
    },
    {
      "cell_type": "markdown",
      "metadata": {
        "id": "Sl5KJS9xo6CT"
      },
      "source": [
        "## Predicting a new image"
      ]
    },
    {
      "cell_type": "code",
      "metadata": {
        "id": "bGQZC-7KpUXR"
      },
      "source": [
        "model_path = 'best_model.h5'\n",
        "model = keras.models.load_model(model_path)\n",
        "model.compile(loss='categorical_crossentropy',\n",
        "              optimizer=optimizers.Adam(lr=1e-5),\n",
        "              metrics=['acc'])"
      ],
      "execution_count": null,
      "outputs": []
    },
    {
      "cell_type": "code",
      "metadata": {
        "id": "Y09EMcnCrYat"
      },
      "source": [
        "# predicting images\n",
        "import numpy as np\n",
        "img_path = 'image_dataset/test/3659 brick bow 1x4/3659 brick bow 1x4 055L.png'\n",
        "img = image.load_img(img_path, target_size=(150, 150))\n",
        "x = image.img_to_array(img)\n",
        "x = np.expand_dims(x, axis=0)"
      ],
      "execution_count": null,
      "outputs": []
    },
    {
      "cell_type": "code",
      "metadata": {
        "id": "9cpYDSc15ifA"
      },
      "source": [
        "images = np.vstack([x])\n",
        "label = aug_model.predict_classes(images, batch_size=10)\n",
        "print(label)"
      ],
      "execution_count": null,
      "outputs": []
    },
    {
      "cell_type": "code",
      "metadata": {
        "id": "tHKiH2a05kW4"
      },
      "source": [
        "classes = train_generator.class_indices \n",
        "part_number = [k[:5] for k, v in classes.items() if v==label]\n",
        "part_number = part_number[0].strip()"
      ],
      "execution_count": null,
      "outputs": []
    },
    {
      "cell_type": "code",
      "metadata": {
        "id": "cUD8gtA8R2ks"
      },
      "source": [
        "from csv import reader\n",
        "opened_file = open(r'final.csv')\n",
        "read_file = reader(opened_file)\n",
        "final = list(read_file)\n",
        "\n",
        "def my_function(a):\n",
        "    for row in final:\n",
        "        if str(a) == row[1]:\n",
        "            print(row[-1])"
      ],
      "execution_count": null,
      "outputs": []
    },
    {
      "cell_type": "code",
      "metadata": {
        "id": "tJJ3YP_QpKDd"
      },
      "source": [
        "print(my_function(part_number))"
      ],
      "execution_count": null,
      "outputs": []
    },
    {
      "cell_type": "code",
      "metadata": {
        "id": "24FJxGfvpP--"
      },
      "source": [
        ""
      ],
      "execution_count": null,
      "outputs": []
    }
  ]
}